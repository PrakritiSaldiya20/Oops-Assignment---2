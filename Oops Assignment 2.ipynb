{
 "cells": [
  {
   "cell_type": "code",
   "execution_count": 1,
   "id": "93dd46c1-8b52-4095-abf7-3b0f213a5ef5",
   "metadata": {},
   "outputs": [],
   "source": [
    "#1\n",
    "\n",
    "# Abstraction is a fundamental concept in object-oriented programming (OOP) that allows us to represent complex real-world \n",
    "# entities or systems in simplified models within the program. \n",
    "\n",
    "import abc\n",
    "\n",
    "class student:\n",
    "    \n",
    "    @abc.abstractmethod #decorate-@\n",
    "    def student_details(self):\n",
    "        pass\n",
    "    \n",
    "    @abc.abstractmethod\n",
    "    def student_assignment(self):\n",
    "        pass\n",
    "    \n",
    "    @abc.abstractmethod\n",
    "    def student_marks(self):\n",
    "        pass"
   ]
  },
  {
   "cell_type": "code",
   "execution_count": 2,
   "id": "0fdb2a50-1582-4053-bb05-5c924e88ca5d",
   "metadata": {},
   "outputs": [],
   "source": [
    "class student_details(student):\n",
    "    \n",
    "    def student_details(self):\n",
    "        return \"this is a meth for taking student details\"\n",
    "    \n",
    "    def student_assignment(self):\n",
    "        return \"this is a meth for assing details for a particular student\"\n",
    "    "
   ]
  },
  {
   "cell_type": "code",
   "execution_count": 3,
   "id": "8651c851-ee03-41d9-b0bc-cb9d75870dbc",
   "metadata": {},
   "outputs": [],
   "source": [
    "class data_science_masters(student):\n",
    "    \n",
    "    def student_details(self):\n",
    "        return \"this will return a student details for data science masters\"\n",
    "    \n",
    "    def student_assignment(self):\n",
    "        return \"this will give you details of student assignment\""
   ]
  },
  {
   "cell_type": "code",
   "execution_count": 4,
   "id": "598f1766-d046-480e-b90d-1c0adeadbadc",
   "metadata": {},
   "outputs": [
    {
     "data": {
      "text/plain": [
       "'this will return a student details for data science masters'"
      ]
     },
     "execution_count": 4,
     "metadata": {},
     "output_type": "execute_result"
    }
   ],
   "source": [
    "dsm = data_science_masters()\n",
    "dsm.student_details()"
   ]
  },
  {
   "cell_type": "code",
   "execution_count": 5,
   "id": "c681df77-d0f8-4430-b5d6-7f97b5b6397b",
   "metadata": {},
   "outputs": [
    {
     "data": {
      "text/plain": [
       "'this is a meth for taking student details'"
      ]
     },
     "execution_count": 5,
     "metadata": {},
     "output_type": "execute_result"
    }
   ],
   "source": [
    "sd = student_details()\n",
    "sd.student_details()"
   ]
  },
  {
   "cell_type": "code",
   "execution_count": 6,
   "id": "d49cc077-a85e-4366-a71d-7f469ba83a78",
   "metadata": {},
   "outputs": [
    {
     "data": {
      "text/plain": [
       "'this will give you details of student assignment'"
      ]
     },
     "execution_count": 6,
     "metadata": {},
     "output_type": "execute_result"
    }
   ],
   "source": [
    "dsm = data_science_masters()\n",
    "dsm.student_assignment()"
   ]
  },
  {
   "cell_type": "code",
   "execution_count": 7,
   "id": "c4ae097b-61eb-4722-a1c3-ba3c29301edc",
   "metadata": {},
   "outputs": [
    {
     "data": {
      "text/plain": [
       "'this is a meth for assing details for a particular student'"
      ]
     },
     "execution_count": 7,
     "metadata": {},
     "output_type": "execute_result"
    }
   ],
   "source": [
    "sd = student_details()\n",
    "sd.student_assignment()"
   ]
  },
  {
   "cell_type": "code",
   "execution_count": 9,
   "id": "ce0d6872-4ab8-4f53-91af-e00deb24e164",
   "metadata": {},
   "outputs": [
    {
     "name": "stdout",
     "output_type": "stream",
     "text": [
      "78.5\n",
      "24\n"
     ]
    }
   ],
   "source": [
    "#2\n",
    "# Abstraction and encapsulation are two key concepts in object-oriented programming (OOP), but they serve different purposes and \n",
    "# have distinct characteristics.\n",
    "\n",
    "# Abstraction:\n",
    "\n",
    "# Abstraction focuses on representing essential features and behaviors of real-world objects or systems in a simplified and \n",
    "# generalized manner.\n",
    "\n",
    "# It involves hiding unnecessary details and exposing only the relevant and essential aspects.\n",
    "\n",
    "# Abstraction allows us to work with objects based on their high-level concepts, without concerning ourselves with the specific \n",
    "# implementation details.\n",
    "\n",
    "from abc import ABC, abstractmethod\n",
    "\n",
    "class Shape(ABC):\n",
    "    @abstractmethod\n",
    "    def calculate_area(self):\n",
    "        pass\n",
    "\n",
    "class Circle(Shape):\n",
    "    def __init__(self, radius):\n",
    "        self.radius = radius\n",
    "\n",
    "    def calculate_area(self):\n",
    "        return 3.14 * self.radius ** 2\n",
    "\n",
    "class Rectangle(Shape):\n",
    "    def __init__(self, length, width):\n",
    "        self.length = length\n",
    "        self.width = width\n",
    "\n",
    "    def calculate_area(self):\n",
    "        return self.length * self.width\n",
    "\n",
    "circle = Circle(5)\n",
    "rectangle = Rectangle(4, 6)\n",
    "\n",
    "print(circle.calculate_area())    \n",
    "print(rectangle.calculate_area())  \n"
   ]
  },
  {
   "cell_type": "code",
   "execution_count": 11,
   "id": "230dc233-6392-4ea7-94fb-0c83e788dcb5",
   "metadata": {},
   "outputs": [
    {
     "name": "stdout",
     "output_type": "stream",
     "text": [
      "1300\n"
     ]
    }
   ],
   "source": [
    "#2\n",
    "\n",
    "# Encapsulation:Encapsulation is the bundling of data (attributes) and behaviors (methods) that operate on that data into a single\n",
    "# unit called an object.\n",
    "\n",
    "# It involves hiding internal details and providing a public interface to interact with the object.\n",
    "\n",
    "# Encapsulation allows objects to maintain their state and behavior, ensuring that they are accessed and modified through controlled\n",
    "# access points.\n",
    "\n",
    "class BankAccount:\n",
    "    def __init__(self, account_number, balance):\n",
    "        self.__account_number = account_number\n",
    "        self.__balance = balance\n",
    "\n",
    "    def deposit(self, amount):\n",
    "        self.__balance += amount\n",
    "\n",
    "    def withdraw(self, amount):\n",
    "        if amount <= self.__balance:\n",
    "            self.__balance -= amount\n",
    "        else:\n",
    "            print(\"Insufficient balance.\")\n",
    "\n",
    "    def get_balance(self):\n",
    "        return self.__balance\n",
    "\n",
    "account = BankAccount(\"123456789\", 1000)\n",
    "\n",
    "account.deposit(500)\n",
    "account.withdraw(200)\n",
    "print(account.get_balance())  \n"
   ]
  },
  {
   "cell_type": "code",
   "execution_count": 13,
   "id": "ca9a21f9-4db5-4401-a8ad-7971c712d65b",
   "metadata": {},
   "outputs": [
    {
     "data": {
      "text/plain": [
       "' The abc module in Python stands for \"Abstract Base Classes.\" It is a built-in module that provides infrastructure for defining \\nabstract base classes in Python. Abstract base classes are classes that cannot be instantiated and are meant to serve as a \\nblueprint for other classes.\\n\\nThe abc module is primarily used for the following purposes:\\n\\nDefining abstract base classes: The ABC class from the abc module is used as a base class for defining abstract base classes.\\nBy inheriting from ABC, a class becomes an abstract base class, which cannot be instantiated directly. Abstract base classes \\nprovide a common interface and can contain both concrete and abstract methods.\\n\\nDeclaring abstract methods: The abstractmethod decorator is used to declare abstract methods within abstract base classes. \\nAbstract methods do not have an implementation in the base class and must be implemented in derived classes. Any class that\\ninherits from an abstract base class is required to implement all the abstract methods defined in the base class.'"
      ]
     },
     "execution_count": 13,
     "metadata": {},
     "output_type": "execute_result"
    }
   ],
   "source": [
    "#3\n",
    "\n",
    "\"\"\" The abc module in Python stands for \"Abstract Base Classes.\" It is a built-in module that provides infrastructure for defining \n",
    "abstract base classes in Python. Abstract base classes are classes that cannot be instantiated and are meant to serve as a \n",
    "blueprint for other classes.\n",
    "\n",
    "The abc module is primarily used for the following purposes:\n",
    "\n",
    "Defining abstract base classes: The ABC class from the abc module is used as a base class for defining abstract base classes.\n",
    "By inheriting from ABC, a class becomes an abstract base class, which cannot be instantiated directly. Abstract base classes \n",
    "provide a common interface and can contain both concrete and abstract methods.\n",
    "\n",
    "Declaring abstract methods: The abstractmethod decorator is used to declare abstract methods within abstract base classes. \n",
    "Abstract methods do not have an implementation in the base class and must be implemented in derived classes. Any class that\n",
    "inherits from an abstract base class is required to implement all the abstract methods defined in the base class.\"\"\""
   ]
  },
  {
   "cell_type": "code",
   "execution_count": 15,
   "id": "ddefffa7-eda3-4bd1-bc41-0b31a1688be4",
   "metadata": {},
   "outputs": [
    {
     "data": {
      "text/plain": [
       "' Data abstraction can be achieved in object-oriented programming (OOP) through the use of classes and objects. It involves \\nhiding internal data representation and providing a public interface to interact with the data. \\nHere are the steps to achieve data abstraction:\\n\\nDefine a Class: Start by defining a class that represents the abstraction you want to create. The class should encapsulate the\\ndata and behaviors related to the abstraction.\\n\\nDetermine the Necessary Data: Identify the essential data that needs to be stored and manipulated within the class.\\nThese data attributes represent the state of the object.\\n\\nEncapsulate Data: Encapsulate the data attributes within the class by defining them as instance variables. Use access modifiers \\n(e.g., private variables) to restrict direct access to the data from outside the class. This ensures that data is accessed and \\nmodified through controlled methods.\\n\\nProvide Access Methods: Define public methods, often referred to as getters and setters, to provide controlled access to the \\nencapsulated data. These methods should allow external code to interact with the data in a controlled manner, validating inputs or\\nperforming necessary operations.'"
      ]
     },
     "execution_count": 15,
     "metadata": {},
     "output_type": "execute_result"
    }
   ],
   "source": [
    "#4 \n",
    "\n",
    "\"\"\" Data abstraction can be achieved in object-oriented programming (OOP) through the use of classes and objects. It involves \n",
    "hiding internal data representation and providing a public interface to interact with the data. \n",
    "Here are the steps to achieve data abstraction:\n",
    "\n",
    "Define a Class: Start by defining a class that represents the abstraction you want to create. The class should encapsulate the\n",
    "data and behaviors related to the abstraction.\n",
    "\n",
    "Determine the Necessary Data: Identify the essential data that needs to be stored and manipulated within the class.\n",
    "These data attributes represent the state of the object.\n",
    "\n",
    "Encapsulate Data: Encapsulate the data attributes within the class by defining them as instance variables. Use access modifiers \n",
    "(e.g., private variables) to restrict direct access to the data from outside the class. This ensures that data is accessed and \n",
    "modified through controlled methods.\n",
    "\n",
    "Provide Access Methods: Define public methods, often referred to as getters and setters, to provide controlled access to the \n",
    "encapsulated data. These methods should allow external code to interact with the data in a controlled manner, validating inputs or\n",
    "performing necessary operations.\"\"\""
   ]
  },
  {
   "cell_type": "code",
   "execution_count": null,
   "id": "6fa3717f-208e-4f61-b7b2-0de097830613",
   "metadata": {},
   "outputs": [],
   "source": [
    "#5\n",
    "\n",
    "\"\"\" No, we cannot create an instance of an abstract class in Python. An abstract class is a class that is meant to serve as a \n",
    "blueprint for other classes and cannot be instantiated directly.\n",
    "\n",
    "An abstract class is created by inheriting from the ABC (Abstract Base Class) class provided by the abc module. The ABC class is a\n",
    "metaclass that allows a class to become an abstract base class. Additionally, the abstract class may define one or more abstract methods using the @abstractmethod decorator, which indicates that the method should be implemented by any concrete (non-abstract) subclass."
   ]
  }
 ],
 "metadata": {
  "kernelspec": {
   "display_name": "Python 3 (ipykernel)",
   "language": "python",
   "name": "python3"
  },
  "language_info": {
   "codemirror_mode": {
    "name": "ipython",
    "version": 3
   },
   "file_extension": ".py",
   "mimetype": "text/x-python",
   "name": "python",
   "nbconvert_exporter": "python",
   "pygments_lexer": "ipython3",
   "version": "3.10.8"
  }
 },
 "nbformat": 4,
 "nbformat_minor": 5
}
